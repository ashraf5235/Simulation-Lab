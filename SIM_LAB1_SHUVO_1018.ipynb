{
  "nbformat": 4,
  "nbformat_minor": 0,
  "metadata": {
    "colab": {
      "provenance": []
    },
    "kernelspec": {
      "name": "python3",
      "display_name": "Python 3"
    },
    "language_info": {
      "name": "python"
    }
  },
  "cells": [
    {
      "cell_type": "markdown",
      "source": [
        "Scalar & Array Operations (Redo Section with Your Own Values):"
      ],
      "metadata": {
        "id": "sAuM9L_ecLpB"
      }
    },
    {
      "cell_type": "code",
      "source": [
        "import numpy as np\n",
        "\n",
        "\n",
        "scalar = 3.7\n",
        "array = np.array([1.1, -2.8, 5.0, 4.5, -5.8, 6.7])\n",
        "\n",
        "\n",
        "print(\"Array:\", array)\n",
        "print(\"Add:\", scalar + array)\n",
        "print(\"Multi:\", scalar * array)\n",
        "print(\"Division:\", scalar / array)\n",
        "\n",
        "\n",
        "print(\"Sin:\", np.sin(array))\n",
        "print(\"Cos:\", np.cos(array))\n",
        "print(\"Tan:\", np.tan(array))\n",
        "print(\"rem_values: \", np.remainder(array, scalar))\n",
        "print(\"Sqrt (abs):\", np.sqrt(np.abs(array)))\n",
        "print(\"Abs:\", np.abs(array))\n"
      ],
      "metadata": {
        "colab": {
          "base_uri": "https://localhost:8080/"
        },
        "collapsed": true,
        "id": "U0JjSkoJbUoZ",
        "outputId": "09152b46-8222-4782-ed4f-947565615640"
      },
      "execution_count": 13,
      "outputs": [
        {
          "output_type": "stream",
          "name": "stdout",
          "text": [
            "Array: [ 1.1 -2.8  5.   4.5 -5.8  6.7]\n",
            "Add: [ 4.8  0.9  8.7  8.2 -2.1 10.4]\n",
            "Multi: [  4.07 -10.36  18.5   16.65 -21.46  24.79]\n",
            "Division: [ 3.36363636 -1.32142857  0.74        0.82222222 -0.63793103  0.55223881]\n",
            "Sin: [ 0.89120736 -0.33498815 -0.95892427 -0.97753012  0.46460218  0.40484992]\n",
            "Cos: [ 0.45359612 -0.94222234  0.28366219 -0.2107958   0.88551952  0.91438315]\n",
            "Tan: [ 1.96475966  0.35552983 -3.38051501  4.63733205  0.52466622  0.44275742]\n",
            "rem_values:  [1.1 0.9 1.3 0.8 1.6 3. ]\n",
            "Sqrt (abs): [1.04880885 1.67332005 2.23606798 2.12132034 2.40831892 2.58843582]\n",
            "Abs: [1.1 2.8 5.  4.5 5.8 6.7]\n"
          ]
        }
      ]
    },
    {
      "cell_type": "markdown",
      "source": [
        " 2×2 Matrix Calculations (Already Done in Class):\n"
      ],
      "metadata": {
        "id": "N7tT2vUXcwNw"
      }
    },
    {
      "cell_type": "code",
      "source": [
        "import numpy as np\n",
        "\n",
        "\n",
        "matrix = np.array([[1.0, -2.5],\n",
        "                   [3.6, -4.2],\n",
        "                   [0.0, 5.3]])\n",
        "\n",
        "\n",
        "sin_m = np.sin(matrix)\n",
        "cos_m = np.cos(matrix)\n",
        "tan_m = np.tan(matrix)\n",
        "\n",
        "print(\"Sin:\\n\", sin_m)\n",
        "print(\"Cos:\\n\", cos_m)\n",
        "print(\"Tan:\\n\", tan_m)\n",
        "\n",
        "\n",
        "exp_m = np.exp(matrix)\n",
        "log_m = np.log(np.abs(matrix) + 1)\n",
        "\n",
        "print(\"Exponential:\", exp_m)\n",
        "print(\"Logarithmic (log(abs(x)+1)):\", log_m)\n",
        "\n",
        "\n",
        "abs_m = np.abs(matrix)\n",
        "sqrt_m = np.sqrt(np.abs(matrix))\n",
        "\n",
        "print(\"Absolute:\", abs_m)\n",
        "print(\"Square Root:\", sqrt_m)\n",
        "\n",
        "\n",
        "mod_m = np.remainder(matrix, 2)\n",
        "print(\"Remainder % 2:\", mod_m)\n",
        "\n",
        "round_m = np.round(matrix)\n",
        "floor_m = np.floor(matrix)\n",
        "ceil_m = np.ceil(matrix)\n",
        "\n",
        "print(\"Rounded:\", round_m)\n",
        "print(\"Floor:\", floor_m)\n",
        "print(\"Ceil:\", ceil_m)\n"
      ],
      "metadata": {
        "colab": {
          "base_uri": "https://localhost:8080/"
        },
        "id": "z7E1wa5zd-Uh",
        "outputId": "3ef2c307-8d2e-4b4c-8a3f-e81cd8321848"
      },
      "execution_count": 14,
      "outputs": [
        {
          "output_type": "stream",
          "name": "stdout",
          "text": [
            "Sin:\n",
            " [[ 0.84147098 -0.59847214]\n",
            " [-0.44252044  0.87157577]\n",
            " [ 0.         -0.83226744]]\n",
            "Cos:\n",
            " [[ 0.54030231 -0.80114362]\n",
            " [-0.89675842 -0.49026082]\n",
            " [ 1.          0.55437434]]\n",
            "Tan:\n",
            " [[ 1.55740772  0.7470223 ]\n",
            " [ 0.49346673 -1.77777977]\n",
            " [ 0.         -1.5012734 ]]\n",
            "Exponential: [[2.71828183e+00 8.20849986e-02]\n",
            " [3.65982344e+01 1.49955768e-02]\n",
            " [1.00000000e+00 2.00336810e+02]]\n",
            "Logarithmic (log(abs(x)+1)): [[0.69314718 1.25276297]\n",
            " [1.5260563  1.64865863]\n",
            " [0.         1.84054963]]\n",
            "Absolute: [[1.  2.5]\n",
            " [3.6 4.2]\n",
            " [0.  5.3]]\n",
            "Square Root: [[1.         1.58113883]\n",
            " [1.8973666  2.04939015]\n",
            " [0.         2.30217289]]\n",
            "Remainder % 2: [[1.  1.5]\n",
            " [1.6 1.8]\n",
            " [0.  1.3]]\n",
            "Rounded: [[ 1. -2.]\n",
            " [ 4. -4.]\n",
            " [ 0.  5.]]\n",
            "Floor: [[ 1. -3.]\n",
            " [ 3. -5.]\n",
            " [ 0.  5.]]\n",
            "Ceil: [[ 1. -2.]\n",
            " [ 4. -4.]\n",
            " [ 0.  6.]]\n"
          ]
        }
      ]
    },
    {
      "cell_type": "markdown",
      "source": [
        "3x2"
      ],
      "metadata": {
        "id": "0rankBoPfxQS"
      }
    },
    {
      "cell_type": "code",
      "source": [
        "import numpy as np\n",
        "\n",
        "\n",
        "vec_matrix = np.array([[2.1, 4.7, 1.3],\n",
        "                       [5.9, 0.6, 3.3]])\n",
        "\n",
        "\n",
        "max_val = np.max(vec_matrix)\n",
        "min_val = np.min(vec_matrix)\n",
        "max_idx = np.unravel_index(np.argmax(vec_matrix), vec_matrix.shape)\n",
        "min_idx = np.unravel_index(np.argmin(vec_matrix), vec_matrix.shape)\n",
        "\n",
        "print(\"Matrix:\\n\", vec_matrix)\n",
        "print(\"Max Value:\", max_val, \"at index\", max_idx)\n",
        "print(\"Min Value:\", min_val, \"at index\", min_idx)\n",
        "\n",
        "\n",
        "length = np.linalg.norm(vec_matrix)\n",
        "print(\"Vector Length (Norm):\", length)\n",
        "\n",
        "\n",
        "sorted_rowwise_desc = -np.sort(-vec_matrix, axis=1)\n",
        "sorted_flat_desc = np.sort(vec_matrix.flatten())[::-1]\n",
        "\n",
        "print(\"Row-wise Sorted Descending:\\n\", sorted_rowwise_desc)\n",
        "print(\"Entire Matrix Sorted Descending:\\n\", sorted_flat_desc)\n",
        "\n",
        "\n",
        "sum_vals = np.sum(vec_matrix)\n",
        "prod_vals = np.prod(vec_matrix)\n",
        "\n",
        "print(\"Sum of all elements:\", sum_vals)\n",
        "print(\"Product of all elements:\", prod_vals)\n",
        "\n",
        "median_val = np.median(vec_matrix)\n",
        "mean_val = np.mean(vec_matrix)\n",
        "std_dev = np.std(vec_matrix)\n",
        "\n",
        "print(\"Median:\", median_val)\n",
        "print(\"Mean:\", mean_val)\n",
        "print(\"Standard Deviation:\", std_dev)\n"
      ],
      "metadata": {
        "colab": {
          "base_uri": "https://localhost:8080/"
        },
        "id": "M_iyaX1ogIT5",
        "outputId": "e4a2b145-360d-4544-f680-26500e450489"
      },
      "execution_count": 15,
      "outputs": [
        {
          "output_type": "stream",
          "name": "stdout",
          "text": [
            "Matrix:\n",
            " [[2.1 4.7 1.3]\n",
            " [5.9 0.6 3.3]]\n",
            "Max Value: 5.9 at index (np.int64(1), np.int64(0))\n",
            "Min Value: 0.6 at index (np.int64(1), np.int64(1))\n",
            "Vector Length (Norm): 8.616843969807043\n",
            "Row-wise Sorted Descending:\n",
            " [[4.7 2.1 1.3]\n",
            " [5.9 3.3 0.6]]\n",
            "Entire Matrix Sorted Descending:\n",
            " [5.9 4.7 3.3 2.1 1.3 0.6]\n",
            "Sum of all elements: 17.900000000000002\n",
            "Product of all elements: 149.89174200000002\n",
            "Median: 2.7\n",
            "Mean: 2.983333333333334\n",
            "Standard Deviation: 1.8640606809388536\n"
          ]
        }
      ]
    },
    {
      "cell_type": "markdown",
      "source": [
        "Bonus"
      ],
      "metadata": {
        "id": "Yyy4YtpKg4HB"
      }
    },
    {
      "cell_type": "code",
      "source": [
        "import numpy as np\n",
        "import seaborn as sns\n",
        "import matplotlib.pyplot as plt\n",
        "\n",
        "\n",
        "vec_matrix = np.array([[2.1, 4.7, 1.3],\n",
        "                       [5.9, 0.6, 3.3]])\n",
        "\n",
        "\n",
        "plt.figure(figsize=(6, 4))\n",
        "sns.heatmap(vec_matrix, annot=True, cmap=\"YlGnBu\", fmt=\".2f\")\n",
        "plt.title(\"Heatmap of 2×3 Matrix\")\n",
        "plt.show()\n",
        "\n",
        "\n",
        "random_matrix = np.random.uniform(low=-10, high=10, size=(3, 3))\n",
        "\n",
        "\n",
        "plt.figure(figsize=(6, 4))\n",
        "sns.heatmap(random_matrix, annot=True, cmap=\"coolwarm\", fmt=\".1f\")\n",
        "plt.title(\"Heatmap of Random 3×3 Matrix\")\n",
        "plt.show()\n"
      ],
      "metadata": {
        "colab": {
          "base_uri": "https://localhost:8080/",
          "height": 765
        },
        "id": "r3qSB8QphHiB",
        "outputId": "cbaad3cf-d20b-4f48-de63-64489e2b8abc"
      },
      "execution_count": 16,
      "outputs": [
        {
          "output_type": "display_data",
          "data": {
            "text/plain": [
              "<Figure size 600x400 with 2 Axes>"
            ],
            "image/png": "[encoded data removed]"
          },
          "metadata": {}
        },
        {
          "output_type": "display_data",
          "data": {
            "text/plain": [
              "<Figure size 600x400 with 2 Axes>"
            ],
            "image/png": "[encoded data removed]"
          },
          "metadata": {}
        }
      ]
    },
    {
      "cell_type": "code",
      "source": [],
      "metadata": {
        "id": "Ei18la9FhMaK"
      },
      "execution_count": null,
      "outputs": []
    }
  ]
}